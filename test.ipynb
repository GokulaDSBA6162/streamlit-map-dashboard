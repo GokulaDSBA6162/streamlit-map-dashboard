{
 "cells": [
  {
   "cell_type": "code",
   "execution_count": null,
   "metadata": {},
   "outputs": [],
   "source": [
    "#Load Data\n",
    "df_continental = pd.read_csv('data/AxS-Continental_Full Data_data.csv')\n",
    "df_fraud = pd.read_csv('data/AxS-Fraud Box_Full Data_data.csv')\n",
    "df_median = pd.read_csv('data/AxS-Median Box_Full Data_data.csv')\n",
    "df_loss = pd.read_csv('data/AxS-Losses Box_Full Data_data.csv')\n",
    "\n",
    "#Display Filters and Map\n",
    "year, quarter = display_time_filters(df_continental)\n",
    "state_name = display_map(df_continental, year, quarter)\n",
    "state_name = display_state_filter(df_continental, state_name)\n",
    "report_type = display_report_type_filter()\n",
    "\n",
    "#print(df.dtypes)"
   ]
  }
 ],
 "metadata": {
  "language_info": {
   "name": "python"
  }
 },
 "nbformat": 4,
 "nbformat_minor": 2
}
